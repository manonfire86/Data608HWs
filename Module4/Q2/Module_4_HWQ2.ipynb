{
 "cells": [
  {
   "cell_type": "code",
   "execution_count": null,
   "metadata": {},
   "outputs": [],
   "source": [
    "import pandas as pd\n",
    "import numpy as np\n",
    "import jupyter_dash\n",
    "import dash\n",
    "import dash_core_components as dcc\n",
    "import dash_html_components as html\n",
    "import plotly.express as px\n",
    "from plotly import graph_objs as go\n",
    "from dash.dependencies import Input, Output"
   ]
  },
  {
   "cell_type": "code",
   "execution_count": null,
   "metadata": {},
   "outputs": [],
   "source": [
    "url = 'https://data.cityofnewyork.us/resource/nwxe-4ae8.json'\n",
    "trees = pd.read_json(url)"
   ]
  },
  {
   "cell_type": "code",
   "execution_count": null,
   "metadata": {},
   "outputs": [],
   "source": [
    "#Are stewards (steward activity measured by the ‘steward’ variable) having an impact on the health of trees?"
   ]
  },
  {
   "cell_type": "code",
   "execution_count": null,
   "metadata": {},
   "outputs": [],
   "source": [
    "trees['spc_common'] = trees['spc_common'].fillna('Missing')\n",
    "trees['health'] = trees['health'].fillna('Missing')"
   ]
  },
  {
   "cell_type": "code",
   "execution_count": null,
   "metadata": {},
   "outputs": [],
   "source": [
    "q_1_health = pd.DataFrame(trees.groupby(['boroname','spc_common','steward','health'])['tree_id'].count())\n",
    "q_1_health"
   ]
  },
  {
   "cell_type": "code",
   "execution_count": null,
   "metadata": {},
   "outputs": [],
   "source": [
    "q_1_health_prop = q_1_health.div(q_1_health.sum(level=[0,1]))"
   ]
  },
  {
   "cell_type": "code",
   "execution_count": null,
   "metadata": {},
   "outputs": [],
   "source": [
    "q_1_health_prop_un = q_1_health_prop.unstack(level=1)"
   ]
  },
  {
   "cell_type": "code",
   "execution_count": null,
   "metadata": {},
   "outputs": [],
   "source": [
    "q_1_health_prop_un"
   ]
  },
  {
   "cell_type": "code",
   "execution_count": null,
   "metadata": {},
   "outputs": [],
   "source": [
    "#fig = px.bar(q_1_health_prop_un, x=\"boroname\", y=\"health\", color=\"spc_common\", barmode=\"group\")\n",
    "#pd.options.plotting.backend = \"plotly\"\n",
    "#fig = q_1_health_prop_un.plot(kind='bar')\n",
    "#fig.update_layout(barmode='group')\n",
    "#fig.show()\n",
    "temp_df = q_1_health_prop_un.reset_index().melt(id_vars=['boroname','steward','health'])\n",
    "temp_df = temp_df.fillna(0)\n",
    "temp_df = temp_df[temp_df['health']!='Missing']"
   ]
  },
  {
   "cell_type": "code",
   "execution_count": null,
   "metadata": {},
   "outputs": [],
   "source": [
    "#fig = px.bar(temp_df,x='spc_common',y='value',color='boroname')\n",
    "#fig\n"
   ]
  },
  {
   "cell_type": "code",
   "execution_count": null,
   "metadata": {},
   "outputs": [],
   "source": [
    "health = temp_df.health.unique()\n",
    "steward = temp_df.steward.unique()\n",
    "query = [str(i) for i in range(0,50000,2000)]\n",
    "app = dash.Dash(__name__)\n",
    "\n",
    "app.layout = html.Div([\n",
    "    html.Div([        \n",
    "        html.Div([\n",
    "            html.Label('Query'),\n",
    "            dcc.Dropdown(\n",
    "                id='query_dropdown',\n",
    "                options=[{'label' : q, 'value' : q} for q in query],\n",
    "                clearable=False,\n",
    "                value=query[0]\n",
    "            ),\n",
    "        ]),\n",
    "        html.Div([\n",
    "            html.Label('Health'),\n",
    "            dcc.Dropdown(\n",
    "                id='health_dropdown',\n",
    "                options=[{'label' : x, 'value' : x} for x in health],\n",
    "                clearable=False,\n",
    "                value=health[0]\n",
    "            ),\n",
    "        ]),\n",
    "        html.Div([\n",
    "            html.Label('Steward'),\n",
    "            dcc.Dropdown(\n",
    "                id='steward_dropdown',\n",
    "                options=[{'label': y, 'value': y} for y in steward],\n",
    "                clearable=False,\n",
    "                value=steward[0]\n",
    "            ),\n",
    "        ]),\n",
    "    ]),\n",
    "    dcc.Graph(id='bar-chart', figure=go.Figure())\n",
    "])\n",
    "\n",
    "\n",
    "@app.callback(\n",
    "    Output(\"bar-chart\", \"figure\"), \n",
    "    [Input(\"query_dropdown\", \"value\"),\n",
    "     Input(\"health_dropdown\", \"value\"),\n",
    "     Input(\"steward_dropdown\", \"value\")])\n",
    "def update_bar_chart(query,health,steward):\n",
    "    url = 'https://data.cityofnewyork.us/resource/nwxe-4ae8.json?$limit= '.replace(' ',query)\n",
    "    trees = pd.read_json(url)\n",
    "    trees['spc_common'] = trees['spc_common'].fillna('Missing')\n",
    "    trees['health'] = trees['health'].fillna('Missing')\n",
    "    q_1_health = pd.DataFrame(trees.groupby(['boroname','spc_common','steward','health'])['tree_id'].count())\n",
    "    q_1_health_prop = q_1_health.div(q_1_health.sum(level=[0,1]))\n",
    "    q_1_health_prop_un = q_1_health_prop.unstack(level=1)\n",
    "    temp_df = q_1_health_prop_un.reset_index().melt(id_vars=['boroname','steward','health'])\n",
    "    temp_df = temp_df.fillna(0)\n",
    "    temp_df = temp_df[temp_df['health']!='Missing']\n",
    "    fig = px.bar(temp_df[(temp_df[\"health\"] == health) & (temp_df[\"steward\"] == steward) ],x='spc_common',y='value',color='boroname',barmode='group') \n",
    "    fig.update_layout(title_text='Species Health-Steward Relationship Across Burroughs')\n",
    "    return fig\n",
    "\n",
    "app.run_server()"
   ]
  }
 ],
 "metadata": {
  "kernelspec": {
   "display_name": "Python 3",
   "language": "python",
   "name": "python3"
  },
  "language_info": {
   "codemirror_mode": {
    "name": "ipython",
    "version": 3
   },
   "file_extension": ".py",
   "mimetype": "text/x-python",
   "name": "python",
   "nbconvert_exporter": "python",
   "pygments_lexer": "ipython3",
   "version": "3.8.5"
  }
 },
 "nbformat": 4,
 "nbformat_minor": 4
}
